{
 "cells": [
  {
   "cell_type": "markdown",
   "id": "6ba8c57a",
   "metadata": {},
   "source": [
    "# Lists\n",
    "\n",
    "Lists are one of the more common data types that you will come across.\n",
    "They serve as simple containers that can hold objects.\n",
    "They are collections of similar items, like a grocery list.\n",
    "\n",
    "```py\n",
    "groceries = [\"milk\", \"bread\", \"flashlight\", \"blizzard survival guide\"]\n",
    "numbers = [1, 2, 3, 4, 5]\n",
    "random_values = [\"foo\", 1, True, None]\n",
    "```\n",
    "\n",
    "The only special syntax for the list is the _square brackets_ `[]`.\n",
    "Every element in the list is separated by a comma."
   ]
  },
  {
   "cell_type": "code",
   "execution_count": 1,
   "id": "25a5e3f0",
   "metadata": {},
   "outputs": [],
   "source": [
    "# create a couple of lists:\n",
    "\n",
    "dogs = ['Farmer', 'Hugo', 'Astrid', 'Ivy', 'Maggie', 'Winston', 'Buddy', 'Winnie', 'Henry', 'Blue']\n",
    "\n",
    "rooms = ['Nautical', 'Yellow', 'Water', 'Kitchen', 'Dining']"
   ]
  },
  {
   "cell_type": "code",
   "execution_count": 2,
   "id": "1d560ca8",
   "metadata": {},
   "outputs": [
    {
     "name": "stdout",
     "output_type": "stream",
     "text": [
      "['Farmer', 'Hugo', 'Astrid', 'Ivy', 'Maggie', 'Winston', 'Buddy', 'Winnie', 'Henry', 'Blue']\n"
     ]
    }
   ],
   "source": [
    "print(dogs)"
   ]
  },
  {
   "cell_type": "code",
   "execution_count": 3,
   "id": "33893df1",
   "metadata": {},
   "outputs": [
    {
     "name": "stdout",
     "output_type": "stream",
     "text": [
      "['Nautical', 'Yellow', 'Water', 'Kitchen', 'Dining']\n"
     ]
    }
   ],
   "source": [
    "print(rooms)"
   ]
  },
  {
   "cell_type": "markdown",
   "id": "dc8804cc",
   "metadata": {},
   "source": [
    "<hr>\n",
    "\n",
    "## Accessing Elements\n",
    "\n",
    "Ok, so you have a list. \n",
    "How do you get at the different values within the list?\n",
    "How can you get the first element?\n",
    "The last element?\n",
    "The first 5 elements???\n",
    "Last 3?\n",
    "Every other?\n",
    "\n",
    "So many questions!\n",
    "Only one answer.\n",
    "By **_slicing_** the list at its **_indices_**.\n",
    "\n",
    "**Python starts at the number 0**.\n",
    "It is **zero-indexed**.\n",
    "\n",
    "So, with that in mind, every element in a list is automatically assigned a number, starting with zero.\n",
    "Let's take an example: "
   ]
  },
  {
   "cell_type": "code",
   "execution_count": 9,
   "id": "74c69cbe",
   "metadata": {},
   "outputs": [],
   "source": [
    "dogs = ['Farmer', 'Hugo', 'Astrid', 'Ivy', 'Maggie', 'Winston', 'Buddy', 'Winnie', 'Henry', 'Blue', 'Thum']"
   ]
  },
  {
   "cell_type": "markdown",
   "id": "6742afab",
   "metadata": {},
   "source": [
    "Every dog has an index (0-9): \n",
    "* `Farmer`: 0\n",
    "* `Hugo`: 1\n",
    "* `Astrid`: 2 \n",
    "* `Ivy`: 3\n",
    "* `Maggie`: 4\n",
    "* `Windston`: 5\n",
    "* `Buddy`: 6\n",
    "* `Winnie`: 7\n",
    "* `Henry`: 8\n",
    "* `Blue`: 9\n",
    "* `Thum`: 10\n",
    "\n",
    "The index is _ALWAYS_ sequential, and updates when items get added or removed from the list.\n",
    "If we were to shuffle this list and mix up the values, the indices will still be 0-6.\n",
    "\n",
    "If we wanted to _be certain of this_, we could use the `enumerate` function.\n",
    "This will give us every value in our list, AND the index.\n",
    "Try running the code below."
   ]
  },
  {
   "cell_type": "code",
   "execution_count": 10,
   "id": "fb22db32",
   "metadata": {},
   "outputs": [
    {
     "name": "stdout",
     "output_type": "stream",
     "text": [
      "[(0, 'Farmer'), (1, 'Hugo'), (2, 'Astrid'), (3, 'Ivy'), (4, 'Maggie'), (5, 'Winston'), (6, 'Buddy'), (7, 'Winnie'), (8, 'Henry'), (9, 'Blue'), (10, 'Thum')]\n"
     ]
    }
   ],
   "source": [
    "print(list(enumerate(dogs)))"
   ]
  },
  {
   "cell_type": "code",
   "execution_count": 11,
   "id": "5129e10b",
   "metadata": {},
   "outputs": [
    {
     "name": "stdout",
     "output_type": "stream",
     "text": [
      "Ivy\n"
     ]
    }
   ],
   "source": [
    "# get a different value in the list\n",
    "index = 3\n",
    "print(dogs[index])"
   ]
  },
  {
   "cell_type": "code",
   "execution_count": 12,
   "id": "965f186a",
   "metadata": {},
   "outputs": [
    {
     "name": "stdout",
     "output_type": "stream",
     "text": [
      "Farmer\n"
     ]
    }
   ],
   "source": [
    "# print first element\n",
    "index = 0\n",
    "print(dogs[index])"
   ]
  },
  {
   "cell_type": "code",
   "execution_count": 13,
   "id": "f5687fd1",
   "metadata": {},
   "outputs": [
    {
     "name": "stdout",
     "output_type": "stream",
     "text": [
      "Thum\n"
     ]
    }
   ],
   "source": [
    "index = 10\n",
    "print(dogs[index])"
   ]
  },
  {
   "cell_type": "code",
   "execution_count": 18,
   "id": "5f0f4588",
   "metadata": {},
   "outputs": [
    {
     "name": "stdout",
     "output_type": "stream",
     "text": [
      "Thum\n"
     ]
    }
   ],
   "source": [
    "#another way to get the last element\n",
    "print(dogs[-1])"
   ]
  },
  {
   "cell_type": "markdown",
   "id": "3e2fe461",
   "metadata": {},
   "source": [
    "##### Alright, now how do we get multiple elements?"
   ]
  },
  {
   "cell_type": "code",
   "execution_count": 19,
   "id": "b204c140",
   "metadata": {},
   "outputs": [
    {
     "name": "stdout",
     "output_type": "stream",
     "text": [
      "['Farmer', 'Hugo', 'Astrid', 'Ivy']\n"
     ]
    }
   ],
   "source": [
    "print(dogs[0:4])"
   ]
  },
  {
   "cell_type": "markdown",
   "id": "ccf58f35",
   "metadata": {},
   "source": [
    "Lists have the ability to return a elements with a range of indices.\n",
    "You can specify the range using brackets and a colon. \n",
    "The syntax is like this: \n",
    "\n",
    "```\n",
    "my_list[ start_index : stop_index ]\n",
    "```\n",
    "* The `start_index` is *__included__* in the result.\n",
    "* The `stop_index` is *__NOT included__* in the result."
   ]
  },
  {
   "cell_type": "code",
   "execution_count": 20,
   "id": "9b9a5080",
   "metadata": {},
   "outputs": [
    {
     "name": "stdout",
     "output_type": "stream",
     "text": [
      "['Farmer', 'Hugo', 'Astrid', 'Ivy', 'Maggie']\n"
     ]
    }
   ],
   "source": [
    "#get the first 5 elements\n",
    "\n",
    "print(dogs[0:5])"
   ]
  },
  {
   "cell_type": "code",
   "execution_count": 47,
   "id": "38164227",
   "metadata": {},
   "outputs": [
    {
     "name": "stdout",
     "output_type": "stream",
     "text": [
      "['Farmer', 'Hugo', 'Astrid', 'Ivy', 'Maggie', 'Winston', 'Buddy']\n"
     ]
    }
   ],
   "source": [
    "#last 3 - I don't know why Thum isn't showing up here...\n",
    "\n",
    "print(dogs[0:-4])"
   ]
  },
  {
   "cell_type": "markdown",
   "id": "2b1e7541",
   "metadata": {},
   "source": [
    "<hr>\n",
    "\n",
    "*__Every other?__*\n",
    "\n",
    "Python lists have one other attribute to their slicing methods.\n",
    "This is the skip (step) argument to the slicer!\n",
    "\n",
    "```\n",
    "my_list[ start_index : stop_index : step ]\n",
    "```\n",
    "* The `step` argument let's you specify an \"every n\" pattern.\n",
    "\n",
    "Let's see an example."
   ]
  },
  {
   "cell_type": "code",
   "execution_count": 37,
   "id": "df98b549",
   "metadata": {},
   "outputs": [
    {
     "name": "stdout",
     "output_type": "stream",
     "text": [
      "['Farmer', 'Astrid', 'Maggie', 'Buddy', 'Henry']\n"
     ]
    }
   ],
   "source": [
    "print(dogs[0:-1:2])"
   ]
  },
  {
   "cell_type": "code",
   "execution_count": 31,
   "id": "b048dc5a",
   "metadata": {},
   "outputs": [
    {
     "name": "stdout",
     "output_type": "stream",
     "text": [
      "['Farmer', 'Astrid', 'Maggie', 'Buddy', 'Henry', 'Thum']\n"
     ]
    }
   ],
   "source": [
    "# if you want to reference the entire list you can eliminate the start and stop:\n",
    "\n",
    "print(dogs[::2])"
   ]
  },
  {
   "cell_type": "markdown",
   "id": "36dfc338",
   "metadata": {},
   "source": [
    "<hr>\n",
    "\n",
    "### Travel back in time..\n",
    "\n",
    "So far, we have explored list indices with positive numbers. \n",
    "What happens when we start to apply negative numbers as arguments to our slicer??\n",
    "\n",
    "Let's think about this like we would a clock face.\n",
    "\n",
    "<img src=\"./images/clock.jpg\" alt=\"clock\" style=\"width: 400px;\"/>\n",
    "\n",
    "If the time was 1pm, and we went back 3 hours.. \n",
    "What would the new time be?"
   ]
  },
  {
   "cell_type": "code",
   "execution_count": 35,
   "id": "cd1dc434",
   "metadata": {},
   "outputs": [
    {
     "data": {
      "text/plain": [
       "12"
      ]
     },
     "execution_count": 35,
     "metadata": {},
     "output_type": "execute_result"
    }
   ],
   "source": [
    "# apparently current time is the 0 index:\n",
    "hours = [1, 2, 3, 4, 5, 6, 7, 8, 9, 10, 11, 12]\n",
    "\n",
    "hours[-1]"
   ]
  },
  {
   "cell_type": "markdown",
   "id": "ce1ecee0",
   "metadata": {},
   "source": [
    "Pretty wild!\n",
    "\n",
    "<hr>\n",
    "\n",
    "### YOUR TURN\n",
    "\n",
    "Using only negative arguments in the slicer..\n",
    "* Print hours 9 through 12\n",
    "* Print hours 1 through 9\n",
    "* Print hours 3 through 6"
   ]
  },
  {
   "cell_type": "code",
   "execution_count": 54,
   "id": "e2f4aa33",
   "metadata": {},
   "outputs": [
    {
     "name": "stdout",
     "output_type": "stream",
     "text": [
      "[9, 10, 11]\n"
     ]
    }
   ],
   "source": [
    "print(hours[-4:-1])"
   ]
  },
  {
   "cell_type": "markdown",
   "id": "3f365433",
   "metadata": {},
   "source": [
    "<hr>\n",
    "\n",
    "### List Methods\n",
    "\n",
    "Just like strings, lists also have _methods_ that we can use.\n",
    "\n",
    "* `count` - Shows how many times something shows up in my list\n",
    "* `index` - At which position does something show up in my list\n",
    "* `reverse` - Reverse it!\n",
    "* `append` - Adds something to the end of the list\n",
    "* `sort` - Sorts it\n",
    "* `pop` - remove an element from the end of the list\n",
    "\n",
    "Go ahead and run the next cell. \n",
    "See what happens to our list!\n",
    "\n",
    "Of course, these are _just a few methods_.\n",
    "There are [many more](https://docs.python.org/3/tutorial/datastructures.html#more-on-lists)."
   ]
  },
  {
   "cell_type": "code",
   "execution_count": 62,
   "id": "5133b685",
   "metadata": {},
   "outputs": [
    {
     "name": "stdout",
     "output_type": "stream",
     "text": [
      "Count ---->  1\n",
      "Count ---->  0\n",
      "Index ---->  3\n",
      "Index ---->  10\n",
      "Reverse -->  ['hours', 'Farmer', 'Hugo', 'Astrid', 'Ivy', 'Maggie', 'Winston', 'Buddy', 'Winnie', 'Henry', 'Blue', 'Thum']\n",
      "Append --->  ['hours', 'Farmer', 'Hugo', 'Astrid', 'Ivy', 'Maggie', 'Winston', 'Buddy', 'Winnie', 'Henry', 'Blue', 'Thum', 'Ella']\n",
      "Sort ----->  ['Astrid', 'Blue', 'Buddy', 'Ella', 'Farmer', 'Henry', 'Hugo', 'Ivy', 'Maggie', 'Thum', 'Winnie', 'Winston', 'hours']\n",
      "Pop ------>  ['Astrid', 'Blue', 'Buddy', 'Ella', 'Farmer', 'Henry', 'Hugo', 'Ivy', 'Maggie', 'Thum', 'Winnie', 'Winston']\n",
      "\n",
      "Last dog:  hours\n"
     ]
    }
   ],
   "source": [
    "print(\"Count ----> \", dogs.count('Ivy'))\n",
    "print(\"Count ----> \", dogs.count('Gracie'))\n",
    "print(\"Index ----> \", dogs.index('Winnie'))\n",
    "print(\"Index ----> \", dogs.index('Farmer', 4))  # Find next banana starting a position 4\n",
    "\n",
    "dogs.reverse()\n",
    "print(\"Reverse --> \", dogs)\n",
    "\n",
    "dogs.append('Ella')\n",
    "print(\"Append ---> \", dogs)\n",
    "\n",
    "dogs.sort()\n",
    "print(\"Sort -----> \", dogs)\n",
    "\n",
    "last_dog = dogs.pop()\n",
    "print(\"Pop ------> \", dogs)\n",
    "print(\"\\nLast dog: \", last_dog)"
   ]
  },
  {
   "cell_type": "code",
   "execution_count": null,
   "id": "8cdbf83d",
   "metadata": {},
   "outputs": [],
   "source": []
  }
 ],
 "metadata": {
  "kernelspec": {
   "display_name": "Python 3 (ipykernel)",
   "language": "python",
   "name": "python3"
  },
  "language_info": {
   "codemirror_mode": {
    "name": "ipython",
    "version": 3
   },
   "file_extension": ".py",
   "mimetype": "text/x-python",
   "name": "python",
   "nbconvert_exporter": "python",
   "pygments_lexer": "ipython3",
   "version": "3.8.5"
  }
 },
 "nbformat": 4,
 "nbformat_minor": 5
}

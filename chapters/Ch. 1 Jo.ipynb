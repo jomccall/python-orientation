{
 "cells": [
  {
   "cell_type": "markdown",
   "id": "c333ea29",
   "metadata": {},
   "source": [
    "# Basic Python Types"
   ]
  },
  {
   "cell_type": "markdown",
   "id": "8780320c",
   "metadata": {},
   "source": [
    "All to the left is a variable name, to the right is the value assigned to the variable name."
   ]
  },
  {
   "cell_type": "code",
   "execution_count": 1,
   "id": "f35e0c62",
   "metadata": {},
   "outputs": [],
   "source": [
    "number = 12345\n",
    "float_number = 12.345\n",
    "some_text = 'This is a text (a string)!'\n",
    "a_boolean = True"
   ]
  },
  {
   "cell_type": "markdown",
   "id": "6d0be6c4",
   "metadata": {},
   "source": [
    "Call these"
   ]
  },
  {
   "cell_type": "code",
   "execution_count": 2,
   "id": "798d94a6",
   "metadata": {},
   "outputs": [
    {
     "name": "stdout",
     "output_type": "stream",
     "text": [
      "12345\n",
      "12.345\n",
      "This is a text (a string)!\n",
      "True\n"
     ]
    }
   ],
   "source": [
    "print(number)\n",
    "print(float_number)\n",
    "print(some_text)\n",
    "print(a_boolean)"
   ]
  },
  {
   "cell_type": "markdown",
   "id": "cca8adde",
   "metadata": {},
   "source": [
    "Basic and most common types:  \n",
    "- Integer - int()  \n",
    "- Float - float()  \n",
    "- String - str()  \n",
    "- Bool - bool()  "
   ]
  },
  {
   "cell_type": "code",
   "execution_count": 3,
   "id": "651be21e",
   "metadata": {},
   "outputs": [],
   "source": [
    "int = 12345\n",
    "float = 12.345\n",
    "str = 'This is a text (a string)!'\n",
    "bool = True"
   ]
  },
  {
   "cell_type": "code",
   "execution_count": 4,
   "id": "656f57cb",
   "metadata": {},
   "outputs": [
    {
     "name": "stdout",
     "output_type": "stream",
     "text": [
      "12345\n",
      "12.345\n",
      "This is a text (a string)!\n",
      "True\n"
     ]
    }
   ],
   "source": [
    "print(int)\n",
    "print(float)\n",
    "print(str)\n",
    "print(bool)"
   ]
  },
  {
   "cell_type": "code",
   "execution_count": 5,
   "id": "2b34b2a6",
   "metadata": {},
   "outputs": [
    {
     "name": "stdout",
     "output_type": "stream",
     "text": [
      "<class 'int'>\n",
      "<class 'float'>\n",
      "<class 'str'>\n",
      "<class 'bool'>\n"
     ]
    }
   ],
   "source": [
    "print(type(int))\n",
    "print(type(float))\n",
    "print(type(str))\n",
    "print(type(bool))"
   ]
  },
  {
   "cell_type": "markdown",
   "id": "9827af5e",
   "metadata": {},
   "source": [
    "Mathematics with Integers and Floats"
   ]
  },
  {
   "cell_type": "code",
   "execution_count": 6,
   "id": "d1680a34",
   "metadata": {},
   "outputs": [
    {
     "name": "stdout",
     "output_type": "stream",
     "text": [
      "40\n",
      "1657\n",
      "374\n",
      "1.75\n"
     ]
    }
   ],
   "source": [
    "print(34 + 6)\n",
    "print(2089 - 432)\n",
    "print(34 * 11)\n",
    "print(7/4)"
   ]
  },
  {
   "cell_type": "code",
   "execution_count": 9,
   "id": "7efa60e0",
   "metadata": {},
   "outputs": [
    {
     "name": "stdout",
     "output_type": "stream",
     "text": [
      "2.0\n",
      "4.550000000000001\n",
      "0.083810205\n",
      "13312.921007788058\n"
     ]
    }
   ],
   "source": [
    "print(1.0 + 1.0)\n",
    "print(10.3 - 5.75)\n",
    "print(0.12345 * 0.6789)\n",
    "print(2_000_000.123 / 150.23)"
   ]
  },
  {
   "cell_type": "code",
   "execution_count": 10,
   "id": "2154f787",
   "metadata": {},
   "outputs": [],
   "source": [
    "left = 3\n",
    "right = 4"
   ]
  },
  {
   "cell_type": "code",
   "execution_count": 11,
   "id": "4a5ecd7b",
   "metadata": {},
   "outputs": [
    {
     "data": {
      "text/plain": [
       "7"
      ]
     },
     "execution_count": 11,
     "metadata": {},
     "output_type": "execute_result"
    }
   ],
   "source": [
    "left+right"
   ]
  },
  {
   "cell_type": "markdown",
   "id": "a8b4e43e",
   "metadata": {},
   "source": [
    "### Order of Operations..\n",
    "\n",
    "You can use parenthesis to help orchestrate your math flow.\n",
    "Remember **PEMDAS**??\n",
    "* `P`: Parentheses first\n",
    "* `E`: Exponents (ie Powers and Square Roots, etc.)\n",
    "* `MD`: Multiplication and Division (left-to-right)\n",
    "* `AS`: Addition and Subtraction (left-to-right)\n",
    "\n",
    "These rules still apply.  \n",
    "\n",
    "**Note: \\*\\* is exponent** (`2**2` means 2 to the second power)"
   ]
  },
  {
   "cell_type": "code",
   "execution_count": 12,
   "id": "b4eaac8c",
   "metadata": {},
   "outputs": [
    {
     "data": {
      "text/plain": [
       "20.4"
      ]
     },
     "execution_count": 12,
     "metadata": {},
     "output_type": "execute_result"
    }
   ],
   "source": [
    "20 * 2 - (1/2) * 9.8 * 2**2"
   ]
  },
  {
   "cell_type": "code",
   "execution_count": 13,
   "id": "975eed14",
   "metadata": {},
   "outputs": [
    {
     "data": {
      "text/plain": [
       "2000"
      ]
     },
     "execution_count": 13,
     "metadata": {},
     "output_type": "execute_result"
    }
   ],
   "source": [
    "foo = 1000\n",
    "bar = 1001\n",
    "baz = -1\n",
    "foo + bar + baz"
   ]
  },
  {
   "cell_type": "markdown",
   "id": "a25f8a1e",
   "metadata": {},
   "source": [
    "### String stuff"
   ]
  },
  {
   "cell_type": "code",
   "execution_count": 14,
   "id": "59d20a0d",
   "metadata": {},
   "outputs": [
    {
     "name": "stdout",
     "output_type": "stream",
     "text": [
      "I am text.. With single quotes!\n",
      "I am text.. With DOUBLE quotes!\n",
      "I am text.. Using both!!!!\n"
     ]
    }
   ],
   "source": [
    "print('I am text.. With single quotes!')\n",
    "print(\"I am text.. With DOUBLE quotes!\")\n",
    "print(\"I am text..\" + ' Using both!!!!')"
   ]
  },
  {
   "cell_type": "code",
   "execution_count": 15,
   "id": "a174e8a3",
   "metadata": {},
   "outputs": [],
   "source": [
    "greeting_name = 'FooBar'\n",
    "greeting = 'Hello, my name is.. {name}'"
   ]
  },
  {
   "cell_type": "code",
   "execution_count": 16,
   "id": "891b2dcf",
   "metadata": {},
   "outputs": [
    {
     "name": "stdout",
     "output_type": "stream",
     "text": [
      "Hello, my name is.. FooBar\n"
     ]
    }
   ],
   "source": [
    "print(greeting.format(name=greeting_name))"
   ]
  },
  {
   "cell_type": "code",
   "execution_count": 17,
   "id": "a8540f6c",
   "metadata": {},
   "outputs": [
    {
     "name": "stdout",
     "output_type": "stream",
     "text": [
      "Hello, my name is.. no\n"
     ]
    }
   ],
   "source": [
    "a_different_name = 'no'\n",
    "print(greeting.format(name=a_different_name))"
   ]
  },
  {
   "cell_type": "markdown",
   "id": "4b5c17e6",
   "metadata": {},
   "source": [
    "###### String methods"
   ]
  },
  {
   "cell_type": "markdown",
   "id": "0f9b7f28",
   "metadata": {},
   "source": [
    "String's have quite a few methods available for use (and [many more](https://docs.python.org/2.5/lib/string-methods.html)).\n",
    "* `format` - We did this one up above! \n",
    "Allows you to pass variables into some text.\n",
    "Check [this](https://docs.python.org/3/library/string.html#custom-string-formatting) out for some other ways to use it. \n",
    "* `capitalize` - Capitalize the first letter\n",
    "* `upper` - Uppercase all the letters in the string\n",
    "* `replace` - Replace part of the string with something else\n",
    "* `strip` - Remove all leading and trailing whitespaces"
   ]
  },
  {
   "cell_type": "code",
   "execution_count": 20,
   "id": "cf91f4aa",
   "metadata": {},
   "outputs": [],
   "source": [
    "sentence = 'this is a sentence! '"
   ]
  },
  {
   "cell_type": "code",
   "execution_count": 21,
   "id": "6ab6d0a0",
   "metadata": {},
   "outputs": [
    {
     "name": "stdout",
     "output_type": "stream",
     "text": [
      "This is a sentence! \n",
      "this is a sentence! \n",
      "this is a not a sentence! \n",
      "this is a sentence!\n"
     ]
    }
   ],
   "source": [
    "print(sentence.capitalize())\n",
    "print(sentence.lower())\n",
    "print(sentence.replace('sentence', 'not a sentence'))\n",
    "print(sentence.strip())"
   ]
  },
  {
   "cell_type": "markdown",
   "id": "0c5e76c5",
   "metadata": {},
   "source": [
    "##### Boolean  \n",
    "True/False  \n",
    "Yes/No  "
   ]
  },
  {
   "cell_type": "code",
   "execution_count": 22,
   "id": "037d11d5",
   "metadata": {},
   "outputs": [
    {
     "name": "stdout",
     "output_type": "stream",
     "text": [
      "True False\n"
     ]
    }
   ],
   "source": [
    "this = True\n",
    "that = False\n",
    "\n",
    "print(this, that)"
   ]
  },
  {
   "cell_type": "code",
   "execution_count": 23,
   "id": "f7ee47e8",
   "metadata": {},
   "outputs": [
    {
     "name": "stdout",
     "output_type": "stream",
     "text": [
      "True\n"
     ]
    }
   ],
   "source": [
    "#compare values to check whether they are true or false\n",
    "\n",
    "print(this == True)"
   ]
  },
  {
   "cell_type": "code",
   "execution_count": 24,
   "id": "bbab3c94",
   "metadata": {},
   "outputs": [
    {
     "name": "stdout",
     "output_type": "stream",
     "text": [
      "True\n",
      "False\n",
      "True\n"
     ]
    }
   ],
   "source": [
    "print(this or that)\n",
    "print(this and that)\n",
    "print(this and not that)"
   ]
  },
  {
   "cell_type": "code",
   "execution_count": 25,
   "id": "510b71f5",
   "metadata": {},
   "outputs": [
    {
     "name": "stdout",
     "output_type": "stream",
     "text": [
      "True\n",
      "False\n",
      "False\n",
      "True\n",
      "True\n"
     ]
    },
    {
     "ename": "TypeError",
     "evalue": "'bool' object is not callable",
     "output_type": "error",
     "traceback": [
      "\u001b[1;31m---------------------------------------------------------------------------\u001b[0m",
      "\u001b[1;31mTypeError\u001b[0m                                 Traceback (most recent call last)",
      "\u001b[1;32m~\\AppData\\Local\\Temp/ipykernel_12880/1478490909.py\u001b[0m in \u001b[0;36m<module>\u001b[1;34m\u001b[0m\n\u001b[0;32m      5\u001b[0m \u001b[0mprint\u001b[0m\u001b[1;33m(\u001b[0m\u001b[1;36m1\u001b[0m \u001b[1;33m<\u001b[0m \u001b[1;36m2\u001b[0m\u001b[1;33m)\u001b[0m\u001b[1;33m\u001b[0m\u001b[1;33m\u001b[0m\u001b[0m\n\u001b[0;32m      6\u001b[0m \u001b[0mprint\u001b[0m\u001b[1;33m(\u001b[0m\u001b[1;36m35\u001b[0m \u001b[1;33m==\u001b[0m \u001b[1;36m35.0\u001b[0m\u001b[1;33m)\u001b[0m\u001b[1;33m\u001b[0m\u001b[1;33m\u001b[0m\u001b[0m\n\u001b[1;32m----> 7\u001b[1;33m \u001b[0mprint\u001b[0m\u001b[1;33m(\u001b[0m\u001b[0mbool\u001b[0m\u001b[1;33m(\u001b[0m\u001b[1;34m''\u001b[0m\u001b[1;33m)\u001b[0m\u001b[1;33m)\u001b[0m\u001b[1;33m\u001b[0m\u001b[1;33m\u001b[0m\u001b[0m\n\u001b[0m",
      "\u001b[1;31mTypeError\u001b[0m: 'bool' object is not callable"
     ]
    }
   ],
   "source": [
    "print('foo' == 'foo')\n",
    "print('foo' == 'bar')\n",
    "print('foo' != 'foo')\n",
    "\n",
    "print(1 < 2)\n",
    "print(35 == 35.0)\n",
    "print(bool(''))"
   ]
  },
  {
   "cell_type": "code",
   "execution_count": 26,
   "id": "6262e672",
   "metadata": {},
   "outputs": [
    {
     "name": "stdout",
     "output_type": "stream",
     "text": [
      "False\n"
     ]
    }
   ],
   "source": [
    "print(True if '' and 1 else False)"
   ]
  },
  {
   "cell_type": "code",
   "execution_count": null,
   "id": "7eb1be87",
   "metadata": {},
   "outputs": [],
   "source": []
  }
 ],
 "metadata": {
  "kernelspec": {
   "display_name": "Python 3 (ipykernel)",
   "language": "python",
   "name": "python3"
  },
  "language_info": {
   "codemirror_mode": {
    "name": "ipython",
    "version": 3
   },
   "file_extension": ".py",
   "mimetype": "text/x-python",
   "name": "python",
   "nbconvert_exporter": "python",
   "pygments_lexer": "ipython3",
   "version": "3.8.5"
  }
 },
 "nbformat": 4,
 "nbformat_minor": 5
}

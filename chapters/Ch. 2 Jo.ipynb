{
 "cells": [
  {
   "cell_type": "markdown",
   "id": "a3242e52",
   "metadata": {},
   "source": [
    "# Conditionals  \n",
    "## This is an evaluating logic given certain conditions  \n",
    "\n",
    "Basically a `CASE WHEN ...` statement in SQL.\n",
    "The general syntax goes like this: \n",
    "```python\n",
    "if <condition 1>:\n",
    "    # do something for condition 1!\n",
    "\n",
    "elif <condition 2>:\n",
    "    # do something for condition 2!\n",
    "\n",
    "else:\n",
    "    # do something as a catch all!\n",
    "```\n"
   ]
  },
  {
   "cell_type": "markdown",
   "id": "931582ac",
   "metadata": {},
   "source": [
    "A few important notes:  \n",
    "\n",
    "1. Notice the <b>colon</b> at the end of the conditional lines. The code **will not run** if you don't have the colons. This is python's way of knowing when you are about to *indent* and *create a new code block*  \n",
    "2. As mentioned.. take a look at the indent. This is 4 spaces *don't confuse with tabs and don't mix tabs and spaces*."
   ]
  },
  {
   "cell_type": "markdown",
   "id": "1b870731",
   "metadata": {},
   "source": [
    "##### When to indent:  \n",
    "\n",
    "There are a few instances:  \n",
    "- if statements - `if..:` / `elif..:` /`else..:`  \n",
    "- for loops - `for..:`  \n",
    "- while loops - `while..:`  \n",
    "- functions - `def..:`  \n",
    "- class definitions - `class..:`  \n",
    "- context managers - `with..\"`  \n",
    "\n"
   ]
  },
  {
   "cell_type": "code",
   "execution_count": 1,
   "id": "57c3f315",
   "metadata": {},
   "outputs": [
    {
     "name": "stdout",
     "output_type": "stream",
     "text": [
      "Hm sorry\n"
     ]
    }
   ],
   "source": [
    "name = 'JoannaMcCall'\n",
    "\n",
    "if name == 'Joanna':\n",
    "    print('First condition met')\n",
    "    \n",
    "elif name == 'McCall':\n",
    "    print('Second condition met')\n",
    "    \n",
    "else:\n",
    "    print('Hm sorry')"
   ]
  },
  {
   "cell_type": "code",
   "execution_count": 2,
   "id": "ba0a2a49",
   "metadata": {},
   "outputs": [
    {
     "name": "stdout",
     "output_type": "stream",
     "text": [
      "Joannamccall\n"
     ]
    }
   ],
   "source": [
    "# a bit more complex:\n",
    "name = 'JoannaMcCall'\n",
    "\n",
    "if name == 'Joanna' or name == 'McCall':\n",
    "    name = name.lower()\n",
    "    \n",
    "elif len(name) > 3:\n",
    "    name = name.capitalize()\n",
    "    \n",
    "else:\n",
    "    name = name.upper()\n",
    "    \n",
    "print(name)"
   ]
  },
  {
   "cell_type": "markdown",
   "id": "3e59ae55",
   "metadata": {},
   "source": [
    "### YOUR TURN\n",
    "\n",
    "Given the following: \n",
    "```python\n",
    "number = 5\n",
    "```\n",
    "\n",
    "Write an if/elif/else block that checks the following criteria:\n",
    "* When number is less than 3, print `low`\n",
    "* When number is between 3 and 20, print `mid`\n",
    "* When number is greater than 20, print `high`"
   ]
  },
  {
   "cell_type": "code",
   "execution_count": 6,
   "id": "e8b41f3d",
   "metadata": {},
   "outputs": [
    {
     "name": "stdout",
     "output_type": "stream",
     "text": [
      "mid\n"
     ]
    }
   ],
   "source": [
    "number = 5\n",
    "\n",
    "if number < 3:\n",
    "    print('low')\n",
    "    \n",
    "elif 3< number < 20:\n",
    "    print('mid')\n",
    "    \n",
    "else:\n",
    "    print('high')"
   ]
  },
  {
   "cell_type": "markdown",
   "id": "56d0aa2c",
   "metadata": {},
   "source": [
    "Given the following: \n",
    "```python\n",
    "number = 5\n",
    "prime = True\n",
    "```\n",
    "\n",
    "Write an if/elif/else block that checks the following criteria:\n",
    "* For when prime is True\n",
    "    * When number is less than 3, print `low`\n",
    "    * When number is between 3 and 20, print `mid`\n",
    "    * Wen number is greater than 20, print `high`\n",
    "* When prime is False\n",
    "    * print : 'Not a prime number'"
   ]
  },
  {
   "cell_type": "code",
   "execution_count": 10,
   "id": "488dd7ad",
   "metadata": {},
   "outputs": [
    {
     "name": "stdout",
     "output_type": "stream",
     "text": [
      "mid\n"
     ]
    }
   ],
   "source": [
    "number = 5\n",
    "prime = True\n",
    "\n",
    "if prime == True:\n",
    "    if number < 3:\n",
    "        print('low')\n",
    "    \n",
    "    elif 3< number < 20:\n",
    "        print('mid')\n",
    "    \n",
    "    else:\n",
    "        print('high')\n",
    "        \n",
    "if prime == False:\n",
    "    print('not a prime number')"
   ]
  },
  {
   "cell_type": "code",
   "execution_count": null,
   "id": "efc5e105",
   "metadata": {},
   "outputs": [],
   "source": []
  }
 ],
 "metadata": {
  "kernelspec": {
   "display_name": "Python 3 (ipykernel)",
   "language": "python",
   "name": "python3"
  },
  "language_info": {
   "codemirror_mode": {
    "name": "ipython",
    "version": 3
   },
   "file_extension": ".py",
   "mimetype": "text/x-python",
   "name": "python",
   "nbconvert_exporter": "python",
   "pygments_lexer": "ipython3",
   "version": "3.8.5"
  }
 },
 "nbformat": 4,
 "nbformat_minor": 5
}
